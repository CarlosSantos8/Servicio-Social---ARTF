{
 "cells": [
  {
   "cell_type": "markdown",
   "id": "f2112f24",
   "metadata": {},
   "source": [
    "<h1> 2. SARIMA(p,d,q)(P,D,Q)[m] </h1>\n",
    "\n",
    "<h2> Preprocesamiento de datos y packages </h2>"
   ]
  },
  {
   "cell_type": "code",
   "execution_count": 2,
   "id": "3b71a00b",
   "metadata": {},
   "outputs": [],
   "source": [
    "library(ggplot2)\n",
    "library(xts)\n",
    "library(forecast)\n",
    "library(dplyr)\n",
    "library(tseries)\n",
    "library(zoo)\n",
    "library(quantmod)\n",
    "library(nortest) #Para pruebas de normalidad\n",
    "library(TTR)\n",
    "setwd(\"C:\\\\Users\\\\81799\\\\OneDrive\\\\Documentos\\\\ESFM_CLASES\\\\Servicio Social ARTF\\\\Machine Learning\\\\section1\\\\ARTF_2017_2020\\\\ABRIL_ARTF\")\n",
    "Ton_Netas_P <- read.csv(\"Toneladas_Netas__Productos_2014_2022.csv\")#Leer DF\n",
    "Ton_Netas_P <- Ton_Netas_P[-99,]#Elimino la última fila\n",
    "Ton_Netas_P$X <- as.yearmon(as.factor(Ton_Netas_P$X), format =\"%m/%Y\")\n",
    "T_N_Pro  <- Ton_Netas_P # Contiene las fechas\n",
    "Ton_Netas_P <- xts(Ton_Netas_P[,c(2:6)], order.by = Ton_Netas_P$X )\n",
    "T_N_P <-  data.frame(Ton_Netas_P) #Ordeno por fechas y la trae como indice\n",
    "Maiz_ts <- ts(T_N_P[,1], frequency = 12, star = c(2014,1))\n",
    "ModB_ARIMA <- arima(Maiz_ts , order = c(1,0,0)) #Modelo ARIMA(1,0,0)"
   ]
  },
  {
   "cell_type": "code",
   "execution_count": 7,
   "id": "66449bc9",
   "metadata": {},
   "outputs": [
    {
     "data": {
      "text/plain": [
       "Series: Maiz_ts \n",
       "ARIMA(1,0,1)(0,1,1)[12] with drift \n",
       "\n",
       "Coefficients:\n",
       "         ar1      ma1     sma1     drift\n",
       "      0.7384  -0.3824  -0.7926  3268.075\n",
       "s.e.  0.1457   0.1997   0.2065  1071.698\n",
       "\n",
       "sigma^2 estimated as 1.704e+10:  log likelihood=-1138.93\n",
       "AIC=2287.86   AICc=2288.61   BIC=2300.13"
      ]
     },
     "metadata": {},
     "output_type": "display_data"
    }
   ],
   "source": [
    "auto.arima(Maiz_ts)"
   ]
  },
  {
   "cell_type": "markdown",
   "id": "3873c215",
   "metadata": {},
   "source": [
    "<h2> Correlograma $ACF$ y $PACF$ del modelo ARIMA(1,0,0) </h2>"
   ]
  },
  {
   "cell_type": "code",
   "execution_count": 26,
   "id": "3d3741a6",
   "metadata": {},
   "outputs": [
    {
     "data": {
      "image/png": "[encoded data removed]",
      "text/plain": [
       "Plot with title \"Correlograma parcial del modelo ARIMA(1,0,0)\""
      ]
     },
     "metadata": {},
     "output_type": "display_data"
    }
   ],
   "source": [
    "layout(1:2)\n",
    "acf(ts(ModB_ARIMA$residuals), 50 ,\n",
    "    main = \"Correlograma simple del modelo ARIMA(1,0,0)\")\n",
    "pacf(ts(ModB_ARIMA$residuals), 50 ,\n",
    "    main = \"Correlograma parcial del modelo ARIMA(1,0,0)\")"
   ]
  },
  {
   "cell_type": "markdown",
   "id": "222c5e47",
   "metadata": {},
   "source": [
    "Tanto en el Correlograma Simple, como el en Correlograma Parcial existen valores signficativo $\\varphi $. Este tipo de comportamiento en los correlogramas indican que aún hay factores que no están considerando en los modelos y afectan de manera importante el comportamiento de la serie temporal. \n",
    "\n",
    "Es importante observar que, de acuerdo con el correlograma simple, los valores fuera del intervalo representan un comportamiento similar, ya que se repiten cada determinado tiempo de acuerdo al rezago de la serie, en este caso, cada múltiplo del rezago $12$. **Este tipo de comportamiento es bastante común en las series temporales que presentan un comportamiento estacional;** es decir, que tiene un efecto temporal que se repite cada determinado período. \n",
    "\n",
    "Para poder estimar modelos que consideren el comportamiento estacional de las series podemos ocupar los modelos $SARIMA$. Para incorporar el comportamiento estacional de la serie, podemos anexar un factor de diferenciación adicional al de integración, con el fin de diferencial de acuerdo con el componente estacional. Para empezar a estimar modelos $SARIMA$, propongo realizar $1$ diferencia estacional que se le deberá aplicar a la serie (lo que significa que debemos de diferenciar sobre $12$ unidades, ya que la serie es una serie mensual). \n",
    "\n",
    "De acuerdo a lo anterior, propongo $9$ propuestas de modelos SARIMA en donde únicamente variaremos el número de valores Autorregresivos y Medias Móviles, así como el orden de integración normal del modelo.\n"
   ]
  },
  {
   "cell_type": "code",
   "execution_count": 17,
   "id": "8af2dbd8",
   "metadata": {},
   "outputs": [
    {
     "data": {
      "text/html": [
       "1"
      ],
      "text/latex": [
       "1"
      ],
      "text/markdown": [
       "1"
      ],
      "text/plain": [
       "[1] 1"
      ]
     },
     "metadata": {},
     "output_type": "display_data"
    },
    {
     "data": {
      "text/html": [
       "1"
      ],
      "text/latex": [
       "1"
      ],
      "text/markdown": [
       "1"
      ],
      "text/plain": [
       "[1] 1"
      ]
     },
     "metadata": {},
     "output_type": "display_data"
    }
   ],
   "source": [
    "ndiffs(Maiz_ts) # Nos da el número de diferenciación ordinaria\n",
    "nsdiffs(Maiz_ts) #Nos da el número de diferenciación estacional"
   ]
  },
  {
   "cell_type": "markdown",
   "id": "91d15055",
   "metadata": {},
   "source": [
    "<h2> Modelos SARIMA(p,d,q)(P,D,Q) propuestos </h2>"
   ]
  },
  {
   "cell_type": "code",
   "execution_count": 20,
   "id": "75d4ca37",
   "metadata": {},
   "outputs": [],
   "source": [
    "SARIMA_1<- arima(Maiz_ts,order=c(1,1,1), seasonal = list(order=c(0,1,1)))\n",
    "SARIMA_2<- arima(Maiz_ts,order=c(0,1,1), seasonal = list(order=c(0,1,1)))\n",
    "SARIMA_3<- arima(Maiz_ts,order=c(1,1,0), seasonal = list(order=c(0,1,1)))\n",
    "SARIMA_4<- arima(Maiz_ts,order=c(1,1,1), seasonal = list(order=c(1,1,1)))\n",
    "SARIMA_5<- arima(Maiz_ts,order=c(0,1,1), seasonal = list(order=c(1,1,1)))\n",
    "SARIMA_6<- arima(Maiz_ts,order=c(1,1,0), seasonal = list(order=c(1,1,1)))\n",
    "SARIMA_7<- arima(Maiz_ts,order=c(1,1,1), seasonal = list(order=c(1,1,0)))\n",
    "SARIMA_8<- arima(Maiz_ts,order=c(0,1,1), seasonal = list(order=c(1,1,0)))\n",
    "SARIMA_9<- arima(Maiz_ts,order=c(1,1,0), seasonal = list(order=c(1,1,0)))"
   ]
  },
  {
   "cell_type": "markdown",
   "id": "400ddf55",
   "metadata": {},
   "source": [
    "Vamos a utilizar el mejor modelo de acuerdo con los **Criterios de Información**\n",
    "\n",
    "<h2> Criterios de Información </h2>"
   ]
  },
  {
   "cell_type": "code",
   "execution_count": 22,
   "id": "c1f6a8d9",
   "metadata": {},
   "outputs": [
    {
     "data": {
      "text/html": [
       "2265.63880440652"
      ],
      "text/latex": [
       "2265.63880440652"
      ],
      "text/markdown": [
       "2265.63880440652"
      ],
      "text/plain": [
       "[1] 2265.639"
      ]
     },
     "metadata": {},
     "output_type": "display_data"
    },
    {
     "data": {
      "text/html": [
       "2266.26170945016"
      ],
      "text/latex": [
       "2266.26170945016"
      ],
      "text/markdown": [
       "2266.26170945016"
      ],
      "text/plain": [
       "[1] 2266.262"
      ]
     },
     "metadata": {},
     "output_type": "display_data"
    },
    {
     "data": {
      "text/html": [
       "2274.9326336187"
      ],
      "text/latex": [
       "2274.9326336187"
      ],
      "text/markdown": [
       "2274.9326336187"
      ],
      "text/plain": [
       "[1] 2274.933"
      ]
     },
     "metadata": {},
     "output_type": "display_data"
    },
    {
     "data": {
      "text/html": [
       "2265.45850107603"
      ],
      "text/latex": [
       "2265.45850107603"
      ],
      "text/markdown": [
       "2265.45850107603"
      ],
      "text/plain": [
       "[1] 2265.459"
      ]
     },
     "metadata": {},
     "output_type": "display_data"
    },
    {
     "data": {
      "text/html": [
       "2265.81754592726"
      ],
      "text/latex": [
       "2265.81754592726"
      ],
      "text/markdown": [
       "2265.81754592726"
      ],
      "text/plain": [
       "[1] 2265.818"
      ]
     },
     "metadata": {},
     "output_type": "display_data"
    },
    {
     "data": {
      "text/html": [
       "2274.69188565771"
      ],
      "text/latex": [
       "2274.69188565771"
      ],
      "text/markdown": [
       "2274.69188565771"
      ],
      "text/plain": [
       "[1] 2274.692"
      ]
     },
     "metadata": {},
     "output_type": "display_data"
    },
    {
     "data": {
      "text/html": [
       "2275.80742149632"
      ],
      "text/latex": [
       "2275.80742149632"
      ],
      "text/markdown": [
       "2275.80742149632"
      ],
      "text/plain": [
       "[1] 2275.807"
      ]
     },
     "metadata": {},
     "output_type": "display_data"
    },
    {
     "data": {
      "text/html": [
       "2277.27815676387"
      ],
      "text/latex": [
       "2277.27815676387"
      ],
      "text/markdown": [
       "2277.27815676387"
      ],
      "text/plain": [
       "[1] 2277.278"
      ]
     },
     "metadata": {},
     "output_type": "display_data"
    },
    {
     "data": {
      "text/html": [
       "2285.34031059179"
      ],
      "text/latex": [
       "2285.34031059179"
      ],
      "text/markdown": [
       "2285.34031059179"
      ],
      "text/plain": [
       "[1] 2285.34"
      ]
     },
     "metadata": {},
     "output_type": "display_data"
    }
   ],
   "source": [
    "SARIMA_1$aic\n",
    "SARIMA_2$aic\n",
    "SARIMA_3$aic\n",
    "SARIMA_4$aic\n",
    "SARIMA_5$aic\n",
    "SARIMA_6$aic\n",
    "SARIMA_7$aic\n",
    "SARIMA_8$aic\n",
    "SARIMA_9$aic"
   ]
  },
  {
   "cell_type": "markdown",
   "id": "ed234f36",
   "metadata": {},
   "source": [
    "**Conclusión:** De acuerdo a los resultados de cada modelo, el mejor modelo obtenido es el modelo $SARIMA(1,1,1)(1,1,1)$.."
   ]
  },
  {
   "cell_type": "code",
   "execution_count": 28,
   "id": "00357582",
   "metadata": {},
   "outputs": [
    {
     "data": {
      "image/png": "[encoded data removed]",
      "text/plain": [
       "Plot with title \"Correlograma parcial del modelo ARIMA(1,1,1)(1,1,1)[12]\""
      ]
     },
     "metadata": {},
     "output_type": "display_data"
    }
   ],
   "source": [
    "layout(1:2)\n",
    "acf(ts(SARIMA_4$residuals), 50 ,\n",
    "    main = \"Correlograma simple del modelo SARIMA(1,1,1)(1,1,1)[12]\")\n",
    "pacf(ts(SARIMA_4$residuals), 50 ,\n",
    "    main = \"Correlograma parcial del modelo ARIMA(1,1,1)(1,1,1)[12]\")"
   ]
  }
 ],
 "metadata": {
  "kernelspec": {
   "display_name": "R 4.1.3",
   "language": "R",
   "name": "ir35"
  },
  "language_info": {
   "codemirror_mode": "r",
   "file_extension": ".r",
   "mimetype": "text/x-r-source",
   "name": "R",
   "pygments_lexer": "r",
   "version": "3.6.1"
  }
 },
 "nbformat": 4,
 "nbformat_minor": 5
}
