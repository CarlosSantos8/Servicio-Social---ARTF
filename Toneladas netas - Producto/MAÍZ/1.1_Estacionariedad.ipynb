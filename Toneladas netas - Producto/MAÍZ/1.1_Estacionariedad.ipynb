{
 "cells": [
  {
   "cell_type": "markdown",
   "id": "6c69f7b7",
   "metadata": {},
   "source": [
    "<h2> 1.1 Prueba de Estacionariedad </h2> \n",
    "Recordando... <br> \n",
    "<h4> P-valor </h4> <br> Con base en los datos proporcionados es que se puede realizar la pruebaa, y así determinar si se puede rechazar o no la hipótesis nula; la forma de determinar esto es con base en los diferentes estadísticos, o bien, usando el p-valor de la prueba. La forma más sencilla de saber que es el p-valor, es verlo como la probabilidad de rechazar la hipótesis nula cuando esta sea verdadera. Por lo tanto: <br> <br>\n",
    "* Si p-valor < α, entonces se puede rechazar la hipótesis nula (Se acepta $H_a$ ) <br> * Si p-valor> α, hay evidencia para que NO se rechace la hipótesis nula (Se acepta $H_0$ )\n",
    "\n",
    "\n",
    "<h4> Prueba de Dickey-Fuller Aumentada para raíz unitaria </h4> <br> $H_0=$ No estacionaria (Raíz Unitaria) <br> $H_a=$ Es estacionaria <br> \n",
    "\n",
    "<h4>   Prueba de Phillips-Perron </h4>   Es una modificación de la prueba de Dickey-Fuller. Esta prueba corrige la auto-correlación y hete-\n",
    "rocedasticidad (Varianza NO constante) en los errores para comprobar la existencia de la serie. <br>  <br> $H_0=$ No estacionaria (Raíz Unitaria) <br> $H_a=$ Es estacionaria <br> <p> Una manera de corregir la NO estacionariedad es utilizando diferencias  <p> <h4> Prueba Ljung Box </h4> <br> $H_0=$ Ruido Blanco <br> $H_a=$ No hay Ruido Blanco <br>  \n",
    "\n",
    "\n",
    "\n",
    "\n",
    "<h4> Ruido Blanco </h4> \n",
    "El ruido blanco cumple las siguientes características: <br>\n",
    "$E[ \\varepsilon _t]=0$, es decir, media igual a $0$. <br>\n",
    "$Var[\\varepsilon _t]=c$, es decir, varianza constante. <br>\n",
    "$Cov(\\varepsilon _t, \\varepsilon _{t-k})=0$, es decir, no hay correlación.\n"
   ]
  },
  {
   "cell_type": "markdown",
   "id": "9428d175",
   "metadata": {},
   "source": [
    "<h3> Preprocesamiento de Datos y Packages </h3>"
   ]
  },
  {
   "cell_type": "code",
   "execution_count": 2,
   "id": "03539a44",
   "metadata": {},
   "outputs": [],
   "source": [
    "library(ggplot2)\n",
    "library(xts)\n",
    "library(forecast)\n",
    "library(dplyr)\n",
    "library(tseries)\n",
    "library(zoo)\n",
    "library(quantmod)\n",
    "library(TTR)\n",
    "setwd(\"C:\\\\Users\\\\81799\\\\OneDrive\\\\Documentos\\\\ESFM_CLASES\\\\Servicio Social ARTF\\\\Machine Learning\\\\section1\\\\ARTF_2017_2020\\\\ABRIL_ARTF\")\n",
    "Ton_Netas_P <- read.csv(\"Toneladas_Netas__Productos_2014_2022.csv\")#Leer DF\n",
    "Ton_Netas_P <- Ton_Netas_P[-99,]#Elimino la última fila\n",
    "Ton_Netas_P$X <- as.yearmon(as.factor(Ton_Netas_P$X), format =\"%m/%Y\")\n",
    "T_N_Pro  <- Ton_Netas_P # Contiene las fechas\n",
    "Ton_Netas_P <- xts(Ton_Netas_P[,c(2:6)], order.by = Ton_Netas_P$X )\n",
    "T_N_P <-  data.frame(Ton_Netas_P) #Ordeno por fechas y la trae como indice\n",
    "Maiz_ts <- ts(T_N_P[,1], frequency = 12, star = c(2014,1))"
   ]
  },
  {
   "cell_type": "markdown",
   "id": "7bde0b3f",
   "metadata": {},
   "source": [
    "Siguiendo la **metodología de Box-Jenkins**, lo primero sería realizar las pruebas de estacionariedad\n",
    "(*Prueba de Dickey-Fuller aumentada y Phillips-Perron*) para comprobar que la serie sea o no estacionaria. <br>\n",
    "Para realizar la prueba de Dickey-Fuller aumentada sobre la serie que estamos ocupando (MAÍZ),\n",
    "utilizamos el siguiente código:"
   ]
  },
  {
   "cell_type": "markdown",
   "id": "3b600c32",
   "metadata": {},
   "source": [
    "<h2> Prueba de Dickey-Fuller Aumentada </h2>"
   ]
  },
  {
   "cell_type": "code",
   "execution_count": 4,
   "id": "8039d09a",
   "metadata": {},
   "outputs": [
    {
     "name": "stderr",
     "output_type": "stream",
     "text": [
      "Warning message in adf.test(Maiz_ts, alternative = \"stationary\", k = 0):\n",
      "\"p-value smaller than printed p-value\""
     ]
    },
    {
     "data": {
      "text/plain": [
       "\n",
       "\tAugmented Dickey-Fuller Test\n",
       "\n",
       "data:  Maiz_ts\n",
       "Dickey-Fuller = -5.1793, Lag order = 0, p-value = 0.01\n",
       "alternative hypothesis: stationary\n"
      ]
     },
     "metadata": {},
     "output_type": "display_data"
    }
   ],
   "source": [
    "adf.test(Maiz_ts, alternative = \"stationary\", k=0)"
   ]
  },
  {
   "cell_type": "markdown",
   "id": "387b7a5c",
   "metadata": {},
   "source": [
    "Con un valor del p-valor del $0.01$, menor al $\\alpha = 0.05$ nivel de significancia de la prueba, se acepta la\n",
    "hipótesis alternativa ($H_a$ ) y **rechazamos la hipótesis nula ($H_0$ )**, lo que contrasta que la serie presenta un\n",
    "**comportamiento Estacionario** ( $p-valor<\\alpha  $ ) . <br> <br> Para comparar los resultados de la prueba de Dickey-Fuller aumentada utilizaremos la *prueba Phillips-Perron*. y comprobaremos si esta igual señala la existencia de un\n",
    "comportamiento ESTACIONARIO.\n",
    "\n",
    "<h2> Phillips-Perron </h2>"
   ]
  },
  {
   "cell_type": "code",
   "execution_count": 5,
   "id": "d2362e53",
   "metadata": {},
   "outputs": [
    {
     "name": "stderr",
     "output_type": "stream",
     "text": [
      "Warning message in pp.test(Maiz_ts, alternative = \"stationary\"):\n",
      "\"p-value smaller than printed p-value\""
     ]
    },
    {
     "data": {
      "text/plain": [
       "\n",
       "\tPhillips-Perron Unit Root Test\n",
       "\n",
       "data:  Maiz_ts\n",
       "Dickey-Fuller Z(alpha) = -46.443, Truncation lag parameter = 3, p-value\n",
       "= 0.01\n",
       "alternative hypothesis: stationary\n"
      ]
     },
     "metadata": {},
     "output_type": "display_data"
    }
   ],
   "source": [
    "pp.test(Maiz_ts , alternative = \"stationary\" )"
   ]
  },
  {
   "cell_type": "markdown",
   "id": "ea85930a",
   "metadata": {},
   "source": [
    "Con un p-valor menor al 0.05 nivel de significancia, al igual que la *prueba Dickey-Fuller Aumentada*,\n",
    "la prueba de Phillips-Perron contrasta que la serie es una **serie estacionaria**. <br>\n",
    "\n",
    "<h3> Conclusión </h3>\n",
    "\n",
    "\n",
    "Dada estas dos pruebas, tenemos como conclusión que $d=0$, entonces tendremos que encontrar un proceso de la forma $ARMA(p,q)=ARIMA(p,0,q)$"
   ]
  }
 ],
 "metadata": {
  "kernelspec": {
   "display_name": "R 4.1.3",
   "language": "R",
   "name": "ir35"
  },
  "language_info": {
   "codemirror_mode": "r",
   "file_extension": ".r",
   "mimetype": "text/x-r-source",
   "name": "R",
   "pygments_lexer": "r",
   "version": "3.6.1"
  }
 },
 "nbformat": 4,
 "nbformat_minor": 5
}
