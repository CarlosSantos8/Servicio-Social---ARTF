{
 "cells": [
  {
   "cell_type": "markdown",
   "id": "4e667a43",
   "metadata": {},
   "source": [
    "<h1> 2. $ARIMA(p,d,q)$ </h1>\n",
    "\n",
    "<h2> 2.1 Preprocesamiento de datos y packages </h2>"
   ]
  },
  {
   "cell_type": "code",
   "execution_count": 2,
   "id": "9f84a721",
   "metadata": {},
   "outputs": [],
   "source": [
    "library(ggplot2)\n",
    "library(xts)\n",
    "library(forecast)\n",
    "library(dplyr)\n",
    "library(tseries)\n",
    "library(zoo)\n",
    "library(quantmod)\n",
    "library(TTR)\n",
    "setwd(\"C:\\\\Users\\\\81799\\\\OneDrive\\\\Documentos\\\\ESFM_CLASES\\\\Servicio Social ARTF\\\\Machine Learning\\\\section1\\\\ARTF_2017_2020\\\\ABRIL_ARTF\")\n",
    "Ton_Netas_P <- read.csv(\"Toneladas_Netas__Productos_2014_2022.csv\")#Leer DF\n",
    "Ton_Netas_P <- Ton_Netas_P[-99,]#Elimino la última fila\n",
    "Ton_Netas_P$X <- as.yearmon(as.factor(Ton_Netas_P$X), format =\"%m/%Y\")\n",
    "T_N_Pro  <- Ton_Netas_P # Contiene las fechas\n",
    "Ton_Netas_P <- xts(Ton_Netas_P[,c(2:6)], order.by = Ton_Netas_P$X )\n",
    "T_N_P <-  data.frame(Ton_Netas_P) #Ordeno por fechas y la trae como indice\n",
    "Maiz_ts <- ts(T_N_P[,1], frequency = 12, star = c(2014,1))"
   ]
  },
  {
   "cell_type": "markdown",
   "id": "cd48b50d",
   "metadata": {},
   "source": [
    "\n",
    "Dada la prueba de estacionariedad, podemos confirmar que la serie *Maiz_ ts* se puede considerar como un **proceso estacionario**, y que, a su vez este se puede modelar a partir de un proceso\n",
    "$AR(p)$ y $MA(q)$; es decir, un **proceso $ARMA(p,q)$ estacionario**.\n",
    "Dentro de la metodología estándar de estimación de modelos ARMA, el proceso se puede realizar a partir de candidatos posibles que puedan modelar adecuadamente el *comportamiento estocástico de la\n",
    "serie*. Por lo cual propongo 5 candidatos a modelos $ARIMA(p,d,q)$, los cuales son:\n",
    "* $ARIMA(1,0,1)$\n",
    "* $ARIMA(1,0,0)$\n",
    "* $ARIMA(2,0,1)$\n",
    "* $ARIMA(1,0,2)$\n",
    "* $ARIMA(0,0,1)$\n",
    "\n",
    "El objetivo de esto será comparar y ver cual de estos candidatos tiene el menor **criterio de información**.\n",
    "El código que ocuparemos para estimar los procesos ARIMA seleccionados sobre la serie es el siguiente:"
   ]
  },
  {
   "cell_type": "code",
   "execution_count": 3,
   "id": "6c6f214a",
   "metadata": {},
   "outputs": [],
   "source": [
    "ModA_ARIMA =arima(Maiz_ts , order = c(1,0,1))\n",
    "ModB_ARIMA =arima(Maiz_ts , order = c(1,0,0))\n",
    "ModC_ARIMA =arima(Maiz_ts , order = c(2,0,1))\n",
    "ModD_ARIMA =arima(Maiz_ts , order = c(1,0,2))\n",
    "ModE_ARIMA =arima(Maiz_ts , order = c(0,0,1))"
   ]
  },
  {
   "cell_type": "markdown",
   "id": "8b315f2f",
   "metadata": {},
   "source": [
    "<h2> Criterios de Información </h2>\n",
    "\n",
    "El *Criterio de Información de Akaike(AIC)* son medidas de la calidad relativa de un modelo que representan el ajuste y el número de términs en el modelo. Este criterio se utiliza para comparar diferentes modelos. Sin embargo, el modelo con el valor más pequeño para un conjunto de predictores NO necesariamente ajusta los datos adecuadamente. Utilice tambié pruebas y gráficas de residuos para evaluar que tan bien se ajusta el modelo a los datos.\n",
    "\n",
    "El código que ocuparemos para comparar los *criterios de información* de los modelos propuestos es:"
   ]
  },
  {
   "cell_type": "code",
   "execution_count": 5,
   "id": "3212b9e2",
   "metadata": {},
   "outputs": [
    {
     "data": {
      "text/html": [
       "2650.10371561798"
      ],
      "text/latex": [
       "2650.10371561798"
      ],
      "text/markdown": [
       "2650.10371561798"
      ],
      "text/plain": [
       "[1] 2650.104"
      ]
     },
     "metadata": {},
     "output_type": "display_data"
    },
    {
     "data": {
      "text/html": [
       "2648.11061864618"
      ],
      "text/latex": [
       "2648.11061864618"
      ],
      "text/markdown": [
       "2648.11061864618"
      ],
      "text/plain": [
       "[1] 2648.111"
      ]
     },
     "metadata": {},
     "output_type": "display_data"
    },
    {
     "data": {
      "text/html": [
       "2651.42559282968"
      ],
      "text/latex": [
       "2651.42559282968"
      ],
      "text/markdown": [
       "2651.42559282968"
      ],
      "text/plain": [
       "[1] 2651.426"
      ]
     },
     "metadata": {},
     "output_type": "display_data"
    },
    {
     "data": {
      "text/html": [
       "2651.48327064271"
      ],
      "text/latex": [
       "2651.48327064271"
      ],
      "text/markdown": [
       "2651.48327064271"
      ],
      "text/plain": [
       "[1] 2651.483"
      ]
     },
     "metadata": {},
     "output_type": "display_data"
    },
    {
     "data": {
      "text/html": [
       "2660.40750502577"
      ],
      "text/latex": [
       "2660.40750502577"
      ],
      "text/markdown": [
       "2660.40750502577"
      ],
      "text/plain": [
       "[1] 2660.408"
      ]
     },
     "metadata": {},
     "output_type": "display_data"
    }
   ],
   "source": [
    "ModA_ARIMA$aic\n",
    "ModB_ARIMA$aic\n",
    "ModC_ARIMA$aic\n",
    "ModD_ARIMA$aic\n",
    "ModE_ARIMA$aic\n"
   ]
  },
  {
   "cell_type": "markdown",
   "id": "a8de36f7",
   "metadata": {},
   "source": [
    "Podemos observar que al hacer la comparación de modelos utilizando el **Criterio de Información\n",
    "de Akaike**, el modelo que cuenta con el menor valor es el modelo $ARIMA(1,0,0)$, por lo cual ese es el\n",
    "modelo que ocuparemos para realizar las pruebas sobre los supuestos y, en el caso de que los supuestos\n",
    "se cumplan, el modelo que podremos ocupar para realizar el pronóstico de la serie.\n",
    "Podemos ocupar la función *summary()* sobre el modelo seleccionado para observar las estimaciones de\n",
    "los parámetros del modelo, utilizando el siguiente código:"
   ]
  },
  {
   "cell_type": "code",
   "execution_count": 6,
   "id": "0c80b183",
   "metadata": {},
   "outputs": [
    {
     "name": "stdout",
     "output_type": "stream",
     "text": [
      "\n",
      "Call:\n",
      "arima(x = Maiz_ts, order = c(1, 0, 0))\n",
      "\n",
      "Coefficients:\n",
      "         ar1   intercept\n",
      "      0.6152  1289609.65\n",
      "s.e.  0.0796    44649.69\n",
      "\n",
      "sigma^2 estimated as 2.979e+10:  log likelihood = -1321.06,  aic = 2648.11\n",
      "\n",
      "Training set error measures:\n",
      "                   ME     RMSE      MAE       MPE     MAPE      MASE       ACF1\n",
      "Training set 2136.598 172610.3 139227.9 -1.721672 11.07217 0.8852303 0.00743361\n"
     ]
    }
   ],
   "source": [
    "summary(ModB_ARIMA)"
   ]
  },
  {
   "cell_type": "markdown",
   "id": "9da4eb9f",
   "metadata": {},
   "source": [
    "Con lo anterior, calculamos los parametros a través de *mínimos cuadrados*.Con la ayuda de R obtuvimos la estimación de esos parametros así que tenemos que el modelo matematicamente de\n",
    "$ARIMA(1,0,0)=AR(1)$ esta dado de la siguiente manera: <br> $Y_t=\\Phi _0 +\\Phi _1Y_{t-1}+\\varepsilon _t$  <br> $Y_t=1289609.65+0.6152Y_{t-1}+\\varepsilon _t$ \n",
    "\n",
    "<h3> Conclusión </h3>\n",
    "Observamos que al momento en python nos dió el mismo modelo $ARMA(1,0)$, por lo cual concluimos que este es el modelo más adecuado."
   ]
  }
 ],
 "metadata": {
  "kernelspec": {
   "display_name": "R 4.1.3",
   "language": "R",
   "name": "ir35"
  },
  "language_info": {
   "codemirror_mode": "r",
   "file_extension": ".r",
   "mimetype": "text/x-r-source",
   "name": "R",
   "pygments_lexer": "r",
   "version": "3.6.1"
  }
 },
 "nbformat": 4,
 "nbformat_minor": 5
}
