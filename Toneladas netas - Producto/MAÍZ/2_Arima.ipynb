{
 "cells": [
  {
   "cell_type": "markdown",
   "id": "e2b4db9c",
   "metadata": {},
   "source": [
    "<h1> 2. Modelo ARIMA(p,d,q) </h1>\n",
    "\n",
    "<h2> Preprocesamiento de Datos </h2>"
   ]
  },
  {
   "cell_type": "code",
   "execution_count": 11,
   "id": "07cdd1af",
   "metadata": {},
   "outputs": [],
   "source": [
    "import numpy as np\n",
    "import pandas as pd\n",
    "import matplotlib.pyplot as plt\n",
    "import statsmodels.graphics.tsaplots as sgt #Gráficas de autocorrelación \n",
    "import statsmodels.tsa.stattools as sts #Para prueba de Dickey-Fuller\n",
    "import seaborn as sns \n",
    "import warnings  #Para ignorar los errores en jupyternotebook\n",
    "warnings.filterwarnings(\"ignore\")\n",
    "from statsmodels.tsa.arima.model import ARIMA\n",
    "from scipy.stats.distributions import chi2\n",
    "from datetime import datetime #Para trabajar con fechas\n",
    "import os #Para poner la dirección donde esta la base de datos.\n",
    "sns.set()\n",
    "os.chdir(\"C:\\\\Users\\\\81799\\\\OneDrive\\\\Documentos\\\\ESFM_CLASES\\\\Servicio Social ARTF\\\\Machine Learning\\\\section1\\\\ARTF_2017_2020\\\\ABRIL_ARTF\\\\Toneladas_netas\")"
   ]
  },
  {
   "cell_type": "code",
   "execution_count": 2,
   "id": "082852b3",
   "metadata": {},
   "outputs": [
    {
     "data": {
      "text/html": [
       "<div>\n",
       "<style scoped>\n",
       "    .dataframe tbody tr th:only-of-type {\n",
       "        vertical-align: middle;\n",
       "    }\n",
       "\n",
       "    .dataframe tbody tr th {\n",
       "        vertical-align: top;\n",
       "    }\n",
       "\n",
       "    .dataframe thead th {\n",
       "        text-align: right;\n",
       "    }\n",
       "</style>\n",
       "<table border=\"1\" class=\"dataframe\">\n",
       "  <thead>\n",
       "    <tr style=\"text-align: right;\">\n",
       "      <th></th>\n",
       "      <th>Maiz</th>\n",
       "    </tr>\n",
       "    <tr>\n",
       "      <th>Fechas</th>\n",
       "      <th></th>\n",
       "    </tr>\n",
       "  </thead>\n",
       "  <tbody>\n",
       "    <tr>\n",
       "      <th>01/2014</th>\n",
       "      <td>1.037734e+06</td>\n",
       "    </tr>\n",
       "    <tr>\n",
       "      <th>02/2014</th>\n",
       "      <td>8.419366e+05</td>\n",
       "    </tr>\n",
       "    <tr>\n",
       "      <th>03/2014</th>\n",
       "      <td>9.688675e+05</td>\n",
       "    </tr>\n",
       "    <tr>\n",
       "      <th>04/2014</th>\n",
       "      <td>1.061895e+06</td>\n",
       "    </tr>\n",
       "    <tr>\n",
       "      <th>05/2014</th>\n",
       "      <td>1.046361e+06</td>\n",
       "    </tr>\n",
       "    <tr>\n",
       "      <th>...</th>\n",
       "      <td>...</td>\n",
       "    </tr>\n",
       "    <tr>\n",
       "      <th>10/2021</th>\n",
       "      <td>1.343688e+06</td>\n",
       "    </tr>\n",
       "    <tr>\n",
       "      <th>11/2021</th>\n",
       "      <td>1.540362e+06</td>\n",
       "    </tr>\n",
       "    <tr>\n",
       "      <th>12/2021</th>\n",
       "      <td>1.454104e+06</td>\n",
       "    </tr>\n",
       "    <tr>\n",
       "      <th>01/2022</th>\n",
       "      <td>1.410968e+06</td>\n",
       "    </tr>\n",
       "    <tr>\n",
       "      <th>02/2022</th>\n",
       "      <td>1.118409e+06</td>\n",
       "    </tr>\n",
       "  </tbody>\n",
       "</table>\n",
       "<p>98 rows × 1 columns</p>\n",
       "</div>"
      ],
      "text/plain": [
       "                 Maiz\n",
       "Fechas               \n",
       "01/2014  1.037734e+06\n",
       "02/2014  8.419366e+05\n",
       "03/2014  9.688675e+05\n",
       "04/2014  1.061895e+06\n",
       "05/2014  1.046361e+06\n",
       "...               ...\n",
       "10/2021  1.343688e+06\n",
       "11/2021  1.540362e+06\n",
       "12/2021  1.454104e+06\n",
       "01/2022  1.410968e+06\n",
       "02/2022  1.118409e+06\n",
       "\n",
       "[98 rows x 1 columns]"
      ]
     },
     "execution_count": 2,
     "metadata": {},
     "output_type": "execute_result"
    }
   ],
   "source": [
    "Maiz = pd.read_csv(\"Maiz_Serie_de_Tiempo.csv\")#Leer la serie de tiempo Maiz\n",
    "del Maiz[\"Unnamed: 0\"] #Eliminamos la primera columna\n",
    "Maiz.set_index(\"Fechas\",inplace = True) # Ponemos las fechas como índices\n",
    "Maiz # Imprimimos los datos para verificar que estedn correctos."
   ]
  },
  {
   "cell_type": "markdown",
   "id": "634d2906",
   "metadata": {},
   "source": [
    "<h2> Gráfica $ACF$ </h2>"
   ]
  },
  {
   "cell_type": "code",
   "execution_count": 3,
   "id": "0c4ae793",
   "metadata": {},
   "outputs": [
    {
     "data": {
      "image/png": "[encoded data removed]",
      "text/plain": [
       "<Figure size 432x288 with 1 Axes>"
      ]
     },
     "metadata": {
      "needs_background": "light"
     },
     "output_type": "display_data"
    }
   ],
   "source": [
    "sgt.plot_acf(Maiz[\"Maiz\"], zero = False, lags = 40)\n",
    "plt.title(\"ACF para Toneladas Netas del Maíz\", size = 20)\n",
    "plt.ylim(-0.45,0.7)\n",
    "plt.show()"
   ]
  },
  {
   "cell_type": "markdown",
   "id": "d1d6cfea",
   "metadata": {},
   "source": [
    "Para esta gráfica tendríamos que el modelo $MA(q)$ no contenga más de $2$ componentes, porque observamos que $\\varphi _2$ es significativo y los demás componentes ($\\varphi _3,\\ldots ,\\varphi _{10}$) NO son significativos, ya que están dentro de la franja."
   ]
  },
  {
   "cell_type": "markdown",
   "id": "a209aff2",
   "metadata": {},
   "source": [
    "<h2> Gráfica $PACF$ </h2>"
   ]
  },
  {
   "cell_type": "code",
   "execution_count": 4,
   "id": "5c08f3e9",
   "metadata": {},
   "outputs": [
    {
     "data": {
      "image/png": "[encoded data removed]",
      "text/plain": [
       "<Figure size 432x288 with 1 Axes>"
      ]
     },
     "metadata": {
      "needs_background": "light"
     },
     "output_type": "display_data"
    }
   ],
   "source": [
    "sgt.plot_pacf(Maiz[\"Maiz\"], zero = False, lags = 40, alpha =0.05, method = (\"ols\"))\n",
    "plt.title(\"PACF para Toneladas Netas del Maiz\", size = 20)\n",
    "plt.ylim(-.25,0.7)\n",
    "plt.show()"
   ]
  },
  {
   "cell_type": "markdown",
   "id": "4bc3bcb3",
   "metadata": {},
   "source": [
    "Para esta gráfica tendríamos que el modelo $AR(p)$ no contenga más de $1$ retraso, porque observamos que $\\varphi _1$ es significativo y los demás componentes ($\\varphi _2,\\ldots ,\\varphi _{9}$) NO son significativos, ya que están dentro de la franja.\n",
    "\n",
    "Como la serie es estacionaria, entonces sería \"lógico\" proponer un modelo $ARMA(2,1)$, el cual se expresaría de la siguiente manera: $$x_t=c+\\Phi _1x_{t-1}+\\Phi _2x_{t-2}+\\theta _1 \\varepsilon _{t-1}+\\varepsilon _t$$. \n",
    "\n",
    "Para saber que modelo es óptimo, tendremos que: \n",
    "\n",
    "\n",
    "* Obtener un **modelo parametrizado.**\n",
    "\n",
    "En el anterior modelo estamos tomando la combinación de los dos modelo dos$ AR(p)$ y $MA(q)$, entonces se tiene que obtener un **sobreparametrizar**, con la finalidad de obtener un **MODELO SOBREPARAMETRIZADO**.\n",
    "\n",
    "Una propuesta de dicho modelo es: $ARMA(1,1)=ARIMA(1,0,1)$\n",
    "\n",
    "* Los modelos siguientes a considerar serán caracterizados por una disminución del número de componentes, es decir, se disminuye hasta el más simple\n",
    "\n",
    "Compararemos el modelo parametrizado con los siguientes modelos: \n",
    "* $ARIMA(1,0,0)$\n",
    "* $ARIMA(0,0,1)$\n",
    "\n",
    "\n",
    "Para que un modelo sea adecuado, tendrá que cumplir lo siguiente:\n",
    "1. Que **TODOS** los coeficientes significativos.\n",
    "2. Que un valor grande en **Log-verosimilitud**.\n",
    "3. Realizar los *Criterios de Información* (AIC o BIC).\n",
    "\n",
    "\n",
    "<h2> Prueba de Razón Log-Verosimilitud (LikeLihood). </h2>\n",
    "\n",
    "* $H_0:$ Los dos modelos son significativamente **iguales.**\n",
    "* $H_a:$ Los dos modelos son significativamente **diferentes.**\n"
   ]
  },
  {
   "cell_type": "code",
   "execution_count": 7,
   "id": "d50e36ff",
   "metadata": {},
   "outputs": [],
   "source": [
    "def LLR(mod_1,mod_2,DF=1): #DF son los grados de libertad\n",
    "    L1=mod_1.llf # Me da Log Likelihood del mod_1 que de como entrada\n",
    "    L2=mod_2.llf # Me da Log Likelihood del mod_2 que de como entrada\n",
    "    LR=(2*(L2-L1)) # Estadístico de prueba\n",
    "    p=chi2.sf(LR,DF).round(3) #P-valor\n",
    "    return p"
   ]
  },
  {
   "cell_type": "markdown",
   "id": "0079f6fb",
   "metadata": {},
   "source": [
    "Función para poder decisión de **Prueba de Razón Log-Verosimilitud (LikeLihood).**"
   ]
  },
  {
   "cell_type": "code",
   "execution_count": 38,
   "id": "862494a3",
   "metadata": {},
   "outputs": [],
   "source": [
    "def Decision_LLRA(p_valor):\n",
    "    if p_valor<0.05:\n",
    "        d=f\"Como {p_valor}<0.05, entonces los dos modelos son significativamente diferentes.\"\n",
    "    else :\n",
    "        d=f\"Como {p_valor}>0.05, entonces los dos modelos son significativamente iguales\"\n",
    "    return d"
   ]
  },
  {
   "cell_type": "markdown",
   "id": "c600fade",
   "metadata": {},
   "source": [
    "Función para Decidir cual de los modelos tiene mayor **Log Likelihood** y menor **AIC**"
   ]
  },
  {
   "cell_type": "code",
   "execution_count": 43,
   "id": "9badc861",
   "metadata": {},
   "outputs": [],
   "source": [
    "def Decision_LL(LL1,LL2):\n",
    "    if LL1>LL2:\n",
    "        d=LL1\n",
    "    else :\n",
    "        d=LL2\n",
    "    return d"
   ]
  },
  {
   "cell_type": "code",
   "execution_count": 45,
   "id": "e400c56a",
   "metadata": {},
   "outputs": [
    {
     "data": {
      "text/plain": [
       "3"
      ]
     },
     "execution_count": 45,
     "metadata": {},
     "output_type": "execute_result"
    }
   ],
   "source": [
    "def Decision_AIC(AIC1,AIC2):\n",
    "    if AIC1<AIC2:\n",
    "        d=AIC1\n",
    "    else :\n",
    "        d=AIC2\n",
    "    return d"
   ]
  },
  {
   "cell_type": "markdown",
   "id": "b8a46e81",
   "metadata": {},
   "source": [
    "<h3> $ARMA(1,1)$ vs $ARMA(1,0)$ </h3>"
   ]
  },
  {
   "cell_type": "code",
   "execution_count": 14,
   "id": "77ba091a",
   "metadata": {},
   "outputs": [
    {
     "name": "stdout",
     "output_type": "stream",
     "text": [
      "                               SARIMAX Results                                \n",
      "==============================================================================\n",
      "Dep. Variable:                   Maiz   No. Observations:                   98\n",
      "Model:                 ARIMA(1, 0, 1)   Log Likelihood               -1321.064\n",
      "Date:                Wed, 25 May 2022   AIC                           2650.129\n",
      "Time:                        22:36:17   BIC                           2660.469\n",
      "Sample:                    01-01-2014   HQIC                          2654.311\n",
      "                         - 02-01-2022                                         \n",
      "Covariance Type:                  opg                                         \n",
      "==============================================================================\n",
      "                 coef    std err          z      P>|z|      [0.025      0.975]\n",
      "------------------------------------------------------------------------------\n",
      "const       1.297e+06   4.41e+04     29.414      0.000    1.21e+06    1.38e+06\n",
      "ar.L1          0.6069      0.160      3.801      0.000       0.294       0.920\n",
      "ma.L1          0.0129      0.174      0.074      0.941      -0.327       0.353\n",
      "sigma2      2.962e+10      0.084   3.53e+11      0.000    2.96e+10    2.96e+10\n",
      "===================================================================================\n",
      "Ljung-Box (L1) (Q):                   0.00   Jarque-Bera (JB):                 2.02\n",
      "Prob(Q):                              0.98   Prob(JB):                         0.37\n",
      "Heteroskedasticity (H):               1.60   Skew:                             0.30\n",
      "Prob(H) (two-sided):                  0.18   Kurtosis:                         2.62\n",
      "===================================================================================\n",
      "\n",
      "Warnings:\n",
      "[1] Covariance matrix calculated using the outer product of gradients (complex-step).\n",
      "[2] Covariance matrix is singular or near-singular, with condition number 1.35e+33. Standard errors may be unstable.\n",
      "LLR=0.935\n"
     ]
    }
   ],
   "source": [
    "modelo_AR_1_MA_1 = ARIMA(Maiz, order = (1,0,1)) # ARMA(1,1)\n",
    "resultados_modelo_AR_1_MA_1 = modelo_AR_1_MA_1.fit() #ARMA(1,1) ajustados\n",
    "modelo_AR_1_MA_0 = ARIMA(Maiz, order = (1,0,0)) #ARMA(1,0)\n",
    "resultados_modelo_AR_1_MA_0 = modelo_AR_1_MA_0.fit() #ARMA(1,0) ajustados\n",
    "print(f\"{resultados_modelo_AR_1_MA_1.summary()}\")\n",
    "p_valor_LLR=LLR(resultados_modelo_AR_1_MA_0,resultados_modelo_AR_1_MA_1)\n",
    "print(f\"LLR={p_valor_LLR_test}\")"
   ]
  },
  {
   "cell_type": "code",
   "execution_count": 33,
   "id": "0fefb91f",
   "metadata": {},
   "outputs": [
    {
     "data": {
      "text/plain": [
       "'Como 0.935>0.05, entonces los dos modelos son significativamente iguales'"
      ]
     },
     "execution_count": 33,
     "metadata": {},
     "output_type": "execute_result"
    }
   ],
   "source": [
    "Decision_LLRA(p_valor_LLR)"
   ]
  },
  {
   "cell_type": "markdown",
   "id": "5571e645",
   "metadata": {},
   "source": [
    "**Conclusión:** Me quedó con el modelo $ARMA(1,0)$ ya que es el más simple.\n",
    "\n",
    "$ARMA(1,0)$ vs $ARMA(0,1)$\n",
    "\n",
    "En este caso no se puede realizar **la prueba de razón Log-LikeLihood**, ya que esta prueba solo funciona para **Modelos Anidados**, entonces compararemos cual de los dos modelos tiene mayor **Log-Likelihood** y menor **AIC**, quién cumpla lo anterior es el mejor modelo."
   ]
  },
  {
   "cell_type": "code",
   "execution_count": 54,
   "id": "9c045086",
   "metadata": {},
   "outputs": [
    {
     "name": "stdout",
     "output_type": "stream",
     "text": [
      " ARMA(1,0): \t LL =-1321.0677003913604 \t AIC =2648.135400782721 \n",
      " ARMA(1,0): \t LL =-1327.236381491108 \t AIC =2660.472762982216 \n",
      "\n",
      " Mayor LL =-1321.0677003913604 \t Menor AIC =2648.135400782721\n"
     ]
    }
   ],
   "source": [
    "modelo_AR_0_MA_1 = ARIMA(Maiz, order = (0,0,1)) # ARMA(0,1)\n",
    "resultados_modelo_AR_0_MA_1 = modelo_AR_0_MA_1.fit() #ARMA(0,1) ajustados\n",
    "LL=Decision_LL(resultados_modelo_AR_1_MA_0.llf,resultados_modelo_AR_0_MA_1.llf)\n",
    "AIC=Decision_AIC(resultados_modelo_AR_1_MA_0.aic,resultados_modelo_AR_0_MA_1.aic)\n",
    "print(f\" ARMA(1,0): \\t LL ={resultados_modelo_AR_1_MA_0.llf} \\t AIC ={resultados_modelo_AR_1_MA_0.aic} \")\n",
    "print(f\" ARMA(1,0): \\t LL ={resultados_modelo_AR_0_MA_1.llf} \\t AIC ={resultados_modelo_AR_0_MA_1.aic} \")\n",
    "print(f\"\\n Mayor LL ={LL} \\t Menor AIC ={AIC}\")"
   ]
  },
  {
   "cell_type": "markdown",
   "id": "d0d962ac",
   "metadata": {},
   "source": [
    "Con lo anterior, nos quedamos con el modelo $ARMA(1,0)$"
   ]
  }
 ],
 "metadata": {
  "kernelspec": {
   "display_name": "Python 3 (ipykernel)",
   "language": "python",
   "name": "python3"
  },
  "language_info": {
   "codemirror_mode": {
    "name": "ipython",
    "version": 3
   },
   "file_extension": ".py",
   "mimetype": "text/x-python",
   "name": "python",
   "nbconvert_exporter": "python",
   "pygments_lexer": "ipython3",
   "version": "3.9.12"
  }
 },
 "nbformat": 4,
 "nbformat_minor": 5
}
